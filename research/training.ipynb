{
 "cells": [
  {
   "cell_type": "markdown",
   "metadata": {},
   "source": [
    "### 1. Importing Libraries:"
   ]
  },
  {
   "cell_type": "code",
   "execution_count": 1,
   "metadata": {},
   "outputs": [],
   "source": [
    "from tensorflow.keras.preprocessing.text import Tokenizer\n",
    "from tensorflow.keras.preprocessing.sequence import pad_sequences\n",
    "import pandas as pd\n",
    "import tensorflow as tf\n",
    "\n",
    "\n",
    "from tensorflow.keras.layers import Input, LSTM, Embedding, Dense, TimeDistributed, Dropout\n",
    "from tensorflow.keras.models import Model\n",
    "from tensorflow.keras.callbacks import EarlyStopping\n",
    "from keras.callbacks import ModelCheckpoint\n",
    "from tensorflow.keras.models import Sequential\n",
    "from tensorflow.keras.optimizers import RMSprop, Adam\n",
    "\n",
    "import pickle\n",
    "import os"
   ]
  },
  {
   "cell_type": "code",
   "execution_count": 2,
   "metadata": {},
   "outputs": [],
   "source": [
    "import tensorflow as tf\n",
    "import keras"
   ]
  },
  {
   "cell_type": "code",
   "execution_count": 3,
   "metadata": {},
   "outputs": [],
   "source": [
    "# tf.debugging.set_log_device_placement(True)"
   ]
  },
  {
   "cell_type": "code",
   "execution_count": 4,
   "metadata": {},
   "outputs": [],
   "source": [
    "MAX_LEN_TEXT = 1892\n",
    "MAX_LEN_SUMMARY = 29"
   ]
  },
  {
   "cell_type": "markdown",
   "metadata": {},
   "source": [
    "### 2. Reading Data:"
   ]
  },
  {
   "cell_type": "code",
   "execution_count": 5,
   "metadata": {},
   "outputs": [],
   "source": [
    "x_train = pd.read_csv(r\"U:\\nlp_project\\text_summarization\\artifacts\\data\\preprocessed_data\\x_train.csv\")\n",
    "y_train = pd.read_csv(r\"U:\\nlp_project\\text_summarization\\artifacts\\data\\preprocessed_data\\y_train.csv\")"
   ]
  },
  {
   "cell_type": "code",
   "execution_count": 6,
   "metadata": {},
   "outputs": [],
   "source": [
    "x_test = pd.read_csv(r\"U:\\nlp_project\\text_summarization\\artifacts\\data\\preprocessed_data\\x_test.csv\")\n",
    "y_test = pd.read_csv(r\"U:\\nlp_project\\text_summarization\\artifacts\\data\\preprocessed_data\\y_test.csv\")"
   ]
  },
  {
   "cell_type": "code",
   "execution_count": 7,
   "metadata": {},
   "outputs": [],
   "source": [
    "x_val = pd.read_csv(r\"U:\\nlp_project\\text_summarization\\artifacts\\data\\preprocessed_data\\x_val.csv\")\n",
    "y_val = pd.read_csv(r\"U:\\nlp_project\\text_summarization\\artifacts\\data\\preprocessed_data\\y_val.csv\")"
   ]
  },
  {
   "cell_type": "code",
   "execution_count": 8,
   "metadata": {},
   "outputs": [
    {
     "name": "stdout",
     "output_type": "stream",
     "text": [
      "shape of x_train: (251667, 1) and y_train: (251667, 1)\n",
      "shape of x_test: (78647, 1) and y_train: (78647, 1)\n",
      "shape of x_val: (62917, 1) and y_train: (62917, 1)\n"
     ]
    }
   ],
   "source": [
    "print(f\"shape of x_train: {x_train.shape} and y_train: {y_train.shape}\")\n",
    "print(f\"shape of x_test: {x_test.shape} and y_train: {y_test.shape}\")\n",
    "print(f\"shape of x_val: {x_val.shape} and y_train: {y_val.shape}\")"
   ]
  },
  {
   "cell_type": "code",
   "execution_count": 9,
   "metadata": {},
   "outputs": [
    {
     "name": "stdout",
     "output_type": "stream",
     "text": [
      "<class 'pandas.core.series.Series'>\n",
      "<class 'pandas.core.series.Series'>\n",
      "\n",
      "\n",
      "<class 'pandas.core.series.Series'>\n",
      "<class 'pandas.core.series.Series'>\n"
     ]
    }
   ],
   "source": [
    "print(type(x_train[\"cleaned_text\"]))\n",
    "print(type(y_train[\"cleaned_summary\"]))\n",
    "print(\"\\n\")\n",
    "print(type(x_val[\"cleaned_text\"]))\n",
    "print(type(y_val[\"cleaned_summary\"]))"
   ]
  },
  {
   "cell_type": "markdown",
   "metadata": {},
   "source": [
    "### 3. prepairing Tokenizer"
   ]
  },
  {
   "cell_type": "markdown",
   "metadata": {},
   "source": [
    "#### 3.1 Text Tokenizer"
   ]
  },
  {
   "cell_type": "code",
   "execution_count": 10,
   "metadata": {},
   "outputs": [],
   "source": [
    "text_tokenizer = Tokenizer()\n",
    "text_tokenizer.fit_on_texts(list(x_train[\"cleaned_text\"]))\n",
    "\n",
    "#convert text sequences into integer sequences\n",
    "x_train = text_tokenizer.texts_to_sequences(list(x_train[\"cleaned_text\"])) \n",
    "x_test  = text_tokenizer.texts_to_sequences(list(x_test[\"cleaned_text\"]))\n",
    "x_val = text_tokenizer.texts_to_sequences(list(x_val[\"cleaned_text\"]))\n",
    "\n",
    "\n",
    "# padding zero upto maximum length\n",
    "x_train = pad_sequences(x_train,  maxlen=MAX_LEN_TEXT, padding='post') \n",
    "x_test = pad_sequences(x_test, maxlen=MAX_LEN_TEXT, padding='post')\n",
    "x_val = pad_sequences(x_val, maxlen=MAX_LEN_TEXT, padding='post')"
   ]
  },
  {
   "cell_type": "code",
   "execution_count": 12,
   "metadata": {},
   "outputs": [
    {
     "name": "stdout",
     "output_type": "stream",
     "text": [
      "shape of x_train: (251667, 1892) and y_train: (251667, 1)\n",
      "shape of x_test: (78647, 1892) and y_train: (78647, 1)\n",
      "shape of x_val: (62917, 1892) and y_train: (62917, 1)\n"
     ]
    }
   ],
   "source": [
    "print(f\"shape of x_train: {x_train.shape} and y_train: {y_train.shape}\")\n",
    "print(f\"shape of x_test: {x_test.shape} and y_train: {y_test.shape}\")\n",
    "print(f\"shape of x_val: {x_val.shape} and y_train: {y_val.shape}\")"
   ]
  },
  {
   "cell_type": "code",
   "execution_count": 13,
   "metadata": {},
   "outputs": [
    {
     "data": {
      "text/plain": [
       "1892"
      ]
     },
     "execution_count": 13,
     "metadata": {},
     "output_type": "execute_result"
    }
   ],
   "source": [
    "len(x_train[0])  # similarly are points are padded to length of 1892"
   ]
  },
  {
   "cell_type": "code",
   "execution_count": 14,
   "metadata": {},
   "outputs": [],
   "source": [
    "text_voc_size   =  len(text_tokenizer.word_index) +1"
   ]
  },
  {
   "cell_type": "code",
   "execution_count": 15,
   "metadata": {},
   "outputs": [
    {
     "data": {
      "text/plain": [
       "95454"
      ]
     },
     "execution_count": 15,
     "metadata": {},
     "output_type": "execute_result"
    }
   ],
   "source": [
    "text_voc_size"
   ]
  },
  {
   "cell_type": "markdown",
   "metadata": {},
   "source": [
    "#### 3.2 Summary Tokenizer"
   ]
  },
  {
   "cell_type": "code",
   "execution_count": 16,
   "metadata": {},
   "outputs": [],
   "source": [
    "#preparing a tokenizer for summary on training data \n",
    "summary_tokenizer = Tokenizer()\n",
    "summary_tokenizer.fit_on_texts(list(y_train[\"cleaned_summary\"]))\n",
    "\n",
    "#convert summary sequences into integer sequences\n",
    "y_train = summary_tokenizer.texts_to_sequences(list(y_train[\"cleaned_summary\"])) \n",
    "y_test = summary_tokenizer.texts_to_sequences(list(y_test[\"cleaned_summary\"])) \n",
    "y_val = summary_tokenizer.texts_to_sequences(list(y_val[\"cleaned_summary\"])) \n",
    "\n",
    "#padding zero upto maximum length\n",
    "y_train = pad_sequences(y_train, maxlen=MAX_LEN_SUMMARY, padding='post')\n",
    "y_test = pad_sequences(y_test, maxlen=MAX_LEN_SUMMARY, padding='post')\n",
    "y_val = pad_sequences(y_val, maxlen=MAX_LEN_SUMMARY, padding='post')\n",
    "\n",
    "summary_voc_size  =   len(summary_tokenizer.word_index) +1"
   ]
  },
  {
   "cell_type": "code",
   "execution_count": 17,
   "metadata": {},
   "outputs": [
    {
     "name": "stdout",
     "output_type": "stream",
     "text": [
      "shape of x_train: (251667, 1892) and y_train: (251667, 29)\n",
      "shape of x_test: (78647, 1892) and y_train: (78647, 29)\n",
      "shape of x_val: (62917, 1892) and y_train: (62917, 29)\n"
     ]
    }
   ],
   "source": [
    "print(f\"shape of x_train: {x_train.shape} and y_train: {y_train.shape}\")\n",
    "print(f\"shape of x_test: {x_test.shape} and y_train: {y_test.shape}\")\n",
    "print(f\"shape of x_val: {x_val.shape} and y_train: {y_val.shape}\")"
   ]
  },
  {
   "cell_type": "code",
   "execution_count": 18,
   "metadata": {},
   "outputs": [
    {
     "name": "stdout",
     "output_type": "stream",
     "text": [
      "False False\n",
      "False False\n",
      "False False\n"
     ]
    }
   ],
   "source": [
    "import numpy as np\n",
    "print(np.isnan(x_train).any(), np.isinf(x_train).any())\n",
    "print(np.isnan(x_test).any(), np.isinf(y_test).any())\n",
    "print(np.isnan(x_val).any(), np.isinf(y_val).any())"
   ]
  },
  {
   "cell_type": "markdown",
   "metadata": {},
   "source": [
    "### 4. save the tokenizers:"
   ]
  },
  {
   "cell_type": "code",
   "execution_count": 19,
   "metadata": {},
   "outputs": [],
   "source": [
    "text_tokenizer_dir = os.path.join(r'U:\\nlp_project\\text_summarization\\artifacts\\tokenizer', 'text_tokenizer')\n",
    "summary_tokenizer_dir = os.path.join(r'U:\\nlp_project\\text_summarization\\artifacts\\tokenizer', 'summary_tokenizer')"
   ]
  },
  {
   "cell_type": "code",
   "execution_count": 20,
   "metadata": {},
   "outputs": [],
   "source": [
    "if not os.path.exists(text_tokenizer_dir) and not os.path.exists(summary_tokenizer_dir):\n",
    "    os.mkdir(text_tokenizer_dir)\n",
    "    os.mkdir(summary_tokenizer_dir)\n",
    "\n",
    "x_tokenizer_path = os.path.join(text_tokenizer_dir, 'text_tokenizer') + '.pkl'\n",
    "with open(x_tokenizer_path, 'wb') as file:\n",
    "    pickle.dump(text_tokenizer, file)\n",
    "\n",
    "y_tokenizer_path = os.path.join(summary_tokenizer_dir, 'summary_tokenizer') + '.pkl'\n",
    "with open(y_tokenizer_path, 'wb') as file:\n",
    "    pickle.dump(summary_tokenizer, file)"
   ]
  },
  {
   "cell_type": "code",
   "execution_count": 21,
   "metadata": {},
   "outputs": [
    {
     "name": "stdout",
     "output_type": "stream",
     "text": [
      "1 Physical GPUs, 1 Logical GPUs\n"
     ]
    }
   ],
   "source": [
    "# Enable memory growth for GPUs\n",
    "gpus = tf.config.list_physical_devices('GPU')\n",
    "if gpus[0].device_type:\n",
    "    try:\n",
    "        for gpu in gpus:\n",
    "            tf.config.set_logical_device_configuration(gpus[0], [tf.config.LogicalDeviceConfiguration(memory_limit=1024*2)])\n",
    "            # tf.config.experimental.set_memory_growth(gpu, True)\n",
    "            logical_gpus = tf.config.list_logical_devices('GPU')\n",
    "            print(len(gpus), \"Physical GPUs,\", len(logical_gpus), \"Logical GPUs\")\n",
    "    except RuntimeError as e:\n",
    "        print(e)  # This will catch the error if it's already initializeda"
   ]
  },
  {
   "cell_type": "markdown",
   "metadata": {},
   "source": [
    "### 5. Building Model:"
   ]
  },
  {
   "cell_type": "code",
   "execution_count": null,
   "metadata": {},
   "outputs": [],
   "source": [
    "latent_dim = 256\n",
    "class create_encoder(keras.Model):\n",
    "    def __init__(self,encoder_inputs,text_voc_size):\n",
    "        super().__init__()\n",
    "        self.encoder_emb = Embedding(text_voc_size, latent_dim,trainable=True,name=\"encoder_emb\")(encoder_inputs)\n",
    "        self.encoder_lstm1 = LSTM(latent_dim,return_sequences=True,return_state=True,name=\"lstm1\",dropout=0.1)\n",
    "        self.encoder_lstm2 = LSTM(latent_dim,return_sequences=True,return_state=True,name=\"lstm2\",dropout=0.1)\n",
    "        self.encoder_lstm3=LSTM(latent_dim, return_state=True, return_sequences=True,name=\"lstm3\",dropout=0.1)\n",
    "\n",
    "    def call(self,training=False):\n",
    "        encoder_output1, state_h1, state_c1 = self.encoder_lstm1(self.encoder_emb)\n",
    "        encoder_output2, state_h2, state_c2 = self.encoder_lstm2(encoder_output1)\n",
    "        encoder_outputs, state_h, state_c = self.encoder_lstm3(encoder_output2)\n",
    "        return [state_h,state_c]\n",
    "    \n",
    "\n",
    "class create_decoder(keras.Model):\n",
    "    def __init__(self,decoder_inputs):\n",
    "        super().__init__()\n",
    "        self.decoder_emb_layer = Embedding(summary_voc_size, latent_dim,trainable=True,name=\"decoder_emb\")(decoder_inputs)\n",
    "        self.decoder_lstm = LSTM(latent_dim, return_sequences=True, return_state=True,name=\"decoder_lstm\",dropout=0.1) \n",
    "        self.decoder_dense = TimeDistributed(Dense(summary_voc_size, activation='softmax'))\n",
    "        \n",
    "    def call(self,context_vector):\n",
    "        decoder_outputs,decoder_fwd_state, decoder_back_state = self.decoder_lstm(self.decoder_emb_layer,initial_state=[context_vector[0], context_vector[1]])\n",
    "        decoder_output = self.decoder_dense(decoder_outputs)\n",
    "        return decoder_output"
   ]
  },
  {
   "cell_type": "code",
   "execution_count": 23,
   "metadata": {},
   "outputs": [],
   "source": [
    "encoder_inputs = Input(MAX_LEN_TEXT)\n",
    "encoder = create_encoder(encoder_inputs,text_voc_size)\n",
    "context_vector = encoder.call(True)\n",
    "\n",
    "decoder_inputs = Input(shape=(None,)) # variable length input.\n",
    "decoder = create_decoder(decoder_inputs)\n",
    "decoder_output = decoder.call(context_vector)\n",
    "\n",
    "model = Model(inputs = [encoder_inputs, decoder_inputs], outputs = decoder_output)"
   ]
  },
  {
   "cell_type": "code",
   "execution_count": 25,
   "metadata": {},
   "outputs": [],
   "source": [
    "initial_learning_rate = 0.001\n",
    "optimizer = Adam(learning_rate=initial_learning_rate)\n",
    "model.compile(optimizer='adam', loss='sparse_categorical_crossentropy')"
   ]
  },
  {
   "cell_type": "code",
   "execution_count": 26,
   "metadata": {},
   "outputs": [
    {
     "name": "stdout",
     "output_type": "stream",
     "text": [
      "Model: \"model\"\n",
      "__________________________________________________________________________________________________\n",
      " Layer (type)                   Output Shape         Param #     Connected to                     \n",
      "==================================================================================================\n",
      " input_2 (InputLayer)           [(None, 1892)]       0           []                               \n",
      "                                                                                                  \n",
      " encoder_emb (Embedding)        (None, 1892, 256)    24436224    ['input_2[0][0]']                \n",
      "                                                                                                  \n",
      " lstm1 (LSTM)                   [(None, 1892, 256),  525312      ['encoder_emb[0][0]']            \n",
      "                                 (None, 256),                                                     \n",
      "                                 (None, 256)]                                                     \n",
      "                                                                                                  \n",
      " input_3 (InputLayer)           [(None, None)]       0           []                               \n",
      "                                                                                                  \n",
      " lstm2 (LSTM)                   [(None, 1892, 256),  525312      ['lstm1[0][0]']                  \n",
      "                                 (None, 256),                                                     \n",
      "                                 (None, 256)]                                                     \n",
      "                                                                                                  \n",
      " decoder_emb (Embedding)        (None, None, 256)    6718464     ['input_3[0][0]']                \n",
      "                                                                                                  \n",
      " lstm3 (LSTM)                   [(None, 1892, 256),  525312      ['lstm2[0][0]']                  \n",
      "                                 (None, 256),                                                     \n",
      "                                 (None, 256)]                                                     \n",
      "                                                                                                  \n",
      " decoder_lstm (LSTM)            [(None, None, 256),  525312      ['decoder_emb[0][0]',            \n",
      "                                 (None, 256),                     'lstm3[0][1]',                  \n",
      "                                 (None, 256)]                     'lstm3[0][2]']                  \n",
      "                                                                                                  \n",
      " time_distributed (TimeDistribu  (None, None, 26244)  6744708    ['decoder_lstm[0][0]']           \n",
      " ted)                                                                                             \n",
      "                                                                                                  \n",
      "==================================================================================================\n",
      "Total params: 40,000,644\n",
      "Trainable params: 40,000,644\n",
      "Non-trainable params: 0\n",
      "__________________________________________________________________________________________________\n"
     ]
    }
   ],
   "source": [
    "model.summary()"
   ]
  },
  {
   "cell_type": "code",
   "execution_count": 27,
   "metadata": {},
   "outputs": [
    {
     "data": {
      "image/png": "[encoded data removed]",
      "text/plain": [
       "<IPython.core.display.Image object>"
      ]
     },
     "execution_count": 27,
     "metadata": {},
     "output_type": "execute_result"
    }
   ],
   "source": [
    "# This code require graphviz to run\n",
    "from keras.utils import plot_model\n",
    "plot_model(model=model, show_shapes=True, show_layer_names=True)"
   ]
  },
  {
   "cell_type": "code",
   "execution_count": 28,
   "metadata": {},
   "outputs": [
    {
     "data": {
      "text/plain": [
       "[<keras.engine.input_layer.InputLayer at 0x21749584c10>,\n",
       " <keras.layers.core.embedding.Embedding at 0x21747348e80>,\n",
       " <keras.layers.rnn.lstm.LSTM at 0x21747318c40>,\n",
       " <keras.engine.input_layer.InputLayer at 0x21748cd3e50>,\n",
       " <keras.layers.rnn.lstm.LSTM at 0x21749584fd0>,\n",
       " <keras.layers.core.embedding.Embedding at 0x2174b8cb820>,\n",
       " <keras.layers.rnn.lstm.LSTM at 0x21748cd3250>,\n",
       " <keras.layers.rnn.lstm.LSTM at 0x2174b825970>,\n",
       " <keras.layers.rnn.time_distributed.TimeDistributed at 0x2174b9a34f0>]"
      ]
     },
     "execution_count": 28,
     "metadata": {},
     "output_type": "execute_result"
    }
   ],
   "source": [
    "model.layers"
   ]
  },
  {
   "cell_type": "markdown",
   "metadata": {},
   "source": [
    "#### start model training"
   ]
  },
  {
   "cell_type": "code",
   "execution_count": null,
   "metadata": {},
   "outputs": [],
   "source": [
    "es = EarlyStopping(monitor='val_loss', mode='min', verbose=1, patience=10, restore_best_weights=True)\n",
    "callbacks = [es]"
   ]
  },
  {
   "cell_type": "code",
   "execution_count": 35,
   "metadata": {},
   "outputs": [],
   "source": [
    "x_train = x_train[:15000]\n",
    "y_train = y_train[:15000]\n",
    "x_val = x_val[:100]\n",
    "y_val = y_val[:100]"
   ]
  },
  {
   "cell_type": "code",
   "execution_count": 37,
   "metadata": {},
   "outputs": [
    {
     "name": "stdout",
     "output_type": "stream",
     "text": [
      "Epoch 1/10\n",
      "938/938 [==============================] - 353s 374ms/step - loss: 1.0742 - val_loss: 0.9049\n",
      "Epoch 2/10\n",
      "938/938 [==============================] - 348s 371ms/step - loss: 0.9603 - val_loss: 0.8777\n",
      "Epoch 3/10\n",
      "938/938 [==============================] - 348s 371ms/step - loss: 0.9055 - val_loss: 0.8511\n",
      "Epoch 4/10\n",
      "938/938 [==============================] - 347s 370ms/step - loss: 0.8586 - val_loss: 0.8368\n",
      "Epoch 5/10\n",
      "938/938 [==============================] - 348s 371ms/step - loss: 0.8186 - val_loss: 0.8281\n",
      "Epoch 6/10\n",
      "938/938 [==============================] - 346s 368ms/step - loss: 0.7829 - val_loss: 0.8232\n",
      "Epoch 7/10\n",
      "938/938 [==============================] - 358s 381ms/step - loss: 0.7498 - val_loss: 0.8272\n",
      "Epoch 8/10\n",
      "938/938 [==============================] - 348s 371ms/step - loss: 0.7178 - val_loss: 0.8282\n",
      "Epoch 9/10\n",
      "938/938 [==============================] - 346s 368ms/step - loss: 0.6862 - val_loss: 0.8349\n",
      "Epoch 10/10\n",
      "938/938 [==============================] - 347s 369ms/step - loss: 0.6570 - val_loss: 0.8435\n"
     ]
    }
   ],
   "source": [
    "history = model.fit([x_train, y_train[:, :-1]], \n",
    "      y_train.reshape(y_train.shape[0], y_train.shape[1], 1)[:, 1:], \n",
    "        epochs=10,\n",
    "        callbacks=callbacks, \n",
    "          batch_size=16,\n",
    "            validation_data=([x_val, y_val[:, :-1]], \n",
    "                                     y_val.reshape(y_val.shape[0], y_val.shape[1], 1)[:, 1:]), verbose=True)"
   ]
  },
  {
   "cell_type": "code",
   "execution_count": 38,
   "metadata": {},
   "outputs": [
    {
     "data": {
      "image/png": "[encoded data removed]",
      "text/plain": [
       "<Figure size 640x480 with 1 Axes>"
      ]
     },
     "metadata": {},
     "output_type": "display_data"
    }
   ],
   "source": [
    "from matplotlib import pyplot \n",
    "pyplot.plot(history.history['loss'], label='train') \n",
    "pyplot.plot(history.history['val_loss'], label='val') \n",
    "pyplot.legend() \n",
    "pyplot.show()"
   ]
  },
  {
   "cell_type": "markdown",
   "metadata": {},
   "source": [
    "### Save Model:"
   ]
  },
  {
   "cell_type": "code",
   "execution_count": 42,
   "metadata": {},
   "outputs": [],
   "source": [
    "model_dir = os.path.join(r'U:\\nlp_project\\text_summarization\\artifacts', 'model')\n",
    "\n",
    "if not os.path.exists(model_dir):\n",
    "    os.mkdir(model_dir)"
   ]
  },
  {
   "cell_type": "code",
   "execution_count": 47,
   "metadata": {},
   "outputs": [],
   "source": [
    "model.save(r'U:\\nlp_project\\text_summarization\\artifacts\\model\\model.h5')"
   ]
  },
  {
   "cell_type": "code",
   "execution_count": 48,
   "metadata": {},
   "outputs": [],
   "source": [
    "model.save_weights(r'U:\\nlp_project\\text_summarization\\artifacts\\weights\\model_weights.h5')"
   ]
  },
  {
   "cell_type": "code",
   "execution_count": 49,
   "metadata": {},
   "outputs": [],
   "source": [
    "from keras import backend as K\n",
    "K.clear_session()"
   ]
  },
  {
   "cell_type": "code",
   "execution_count": null,
   "metadata": {},
   "outputs": [],
   "source": []
  },
  {
   "cell_type": "code",
   "execution_count": null,
   "metadata": {},
   "outputs": [],
   "source": []
  },
  {
   "cell_type": "code",
   "execution_count": null,
   "metadata": {},
   "outputs": [],
   "source": []
  },
  {
   "cell_type": "code",
   "execution_count": null,
   "metadata": {},
   "outputs": [],
   "source": []
  }
 ],
 "metadata": {
  "kernelspec": {
   "display_name": "Python 3",
   "language": "python",
   "name": "python3"
  },
  "language_info": {
   "codemirror_mode": {
    "name": "ipython",
    "version": 3
   },
   "file_extension": ".py",
   "mimetype": "text/x-python",
   "name": "python",
   "nbconvert_exporter": "python",
   "pygments_lexer": "ipython3",
   "version": "3.8.19"
  }
 },
 "nbformat": 4,
 "nbformat_minor": 2
}
